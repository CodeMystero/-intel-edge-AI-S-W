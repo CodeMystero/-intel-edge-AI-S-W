import numpy as np
from PIL import Image
import matplotlib.pyplot as plt

color_img = Image.open('fruits.jpg')

#plt.imshow(color_img)
#plt.show()

#이미지 객체 -> numpy 행렬
color_pixel = np.array(color_img)
print(color_pixel.shape)

#jpg는 3개 png는 4개 
#깊은 복사
gray_pixel = color_pixel.copy()

for y in range(color_pixel.shape[0]):
    for x in range(color_pixel.shape[1]):
        gray_pixel[y,x] = np.mean(gray_pixel[y,x])
        
plt.imshow(gray_pixel)
plt.show()

plt.imshow(color_pixel)
plt.show()

new_gray_pixel = color_img.convert('L')
plt.imshow(new_gray_pixel, cmap='gray')
plt.show()
#####################################################
#흑백 이미지를 2차원표현

gray_2d_pixel = gray_pixel[:,:,0]
print(gray_2d_pixel.shape)
plt.imshow(gray_2d_pixel)
plt.show()
plt.imshow(gray_2d_pixel, cmap='gray')
plt.show()
